{
 "cells": [
  {
   "cell_type": "markdown",
   "metadata": {},
   "source": [
    "In week two of the [Data Management and Visualisation course](https://www.coursera.org/learn/data-management-visualization/home/welcome) we're having a first look at the actual data we chose last week ([I'm working with](http://lilithelina.tumblr.com/post/128347327089/choice-of-data) the [Gapminder](http://www.gapminder.org/) data set). As a reminder, my topic is **\"Breast Cancer Causes Internet Usage!\"**, or BCCIU for short. The long version (the real hypothesis) is that in countries with higher new breast cancer cases per 100,000 female residents, the internet usage per 100 people is also higher."
   ]
  },
  {
   "cell_type": "markdown",
   "metadata": {},
   "source": [
    "I am programming in [Python](http://lilithelina.tumblr.com/post/128638794919/choice-of-language), and because there's this awesome thing called [IPython Notebook](http://ipython.org/notebook.html), I can create this blog post interspersed with code and results all in one go. This makes it easy to add explanations outside of regular comments, and since these notebooks can be converted to HTML or Markdown documents, posting everything on tumblr is a breeze as well. The output will look lots better in the [nbviewer](http://nbviewer.ipython.org/github/LilithElina/Data-Management-and-Visualization/blob/master/Week%20Two.ipynb), though, so feel free to hop over there to read on!"
   ]
  },
  {
   "cell_type": "markdown",
   "metadata": {},
   "source": [
    "In the program, we will first need some packages."
   ]
  },
  {
   "cell_type": "code",
   "execution_count": 1,
   "metadata": {
    "collapsed": true
   },
   "outputs": [],
   "source": [
    "# load packages\n",
    "import pandas\n",
    "import numpy"
   ]
  },
  {
   "cell_type": "markdown",
   "metadata": {},
   "source": [
    "Next is, of course, the data - we'll load it and have a first look."
   ]
  },
  {
   "cell_type": "code",
   "execution_count": 2,
   "metadata": {
    "collapsed": false
   },
   "outputs": [
    {
     "name": "stdout",
     "output_type": "stream",
     "text": [
      "number of rows:\t\t 213\n",
      "number of columns:\t 16\n",
      "\n",
      "types of data:\n",
      "country                 object\n",
      "incomeperperson         object\n",
      "alcconsumption          object\n",
      "armedforcesrate         object\n",
      "breastcancerper100th    object\n",
      "co2emissions            object\n",
      "femaleemployrate        object\n",
      "hivrate                 object\n",
      "internetuserate         object\n",
      "lifeexpectancy          object\n",
      "oilperperson            object\n",
      "polityscore             object\n",
      "relectricperperson      object\n",
      "suicideper100th         object\n",
      "employrate              object\n",
      "urbanrate               object\n",
      "dtype: object\n"
     ]
    }
   ],
   "source": [
    "# read in data\n",
    "data = pandas.read_csv(\"gapminder.csv\", low_memory=False)\n",
    "\n",
    "# print some information\n",
    "print(\"number of rows:\\t\\t\", len(data))\n",
    "print(\"number of columns:\\t\", len(data.columns))\n",
    "\n",
    "print(\"\\ntypes of data:\\n\", data.dtypes, sep=\"\")"
   ]
  },
  {
   "cell_type": "markdown",
   "metadata": {
    "collapsed": true
   },
   "source": [
    "The variables I'm interested in are \"breastcancerper100th\" and \"internetuserate\", so I could remove all others. However, I would like to add a third variable to the analysis - \"femaleemployrate\". This could also be correlated to breast cancer, which was also only measured in females. The new breast cancer cases (per 100,000 females) were counted in 2002, the female employees (percentage of whole popuation aged 15+) were assessed in 2007. Will conutries with a higher breast cancer rate have a lower female employment rate?  \n",
    "Additionally, I will keep the country as unique identifier for the different observations."
   ]
  },
  {
   "cell_type": "code",
   "execution_count": 3,
   "metadata": {
    "collapsed": false
   },
   "outputs": [
    {
     "name": "stdout",
     "output_type": "stream",
     "text": [
      "\n",
      "types of data:\n",
      "country                 object\n",
      "breastcancerper100th    object\n",
      "femaleemployrate        object\n",
      "internetuserate         object\n",
      "dtype: object\n"
     ]
    }
   ],
   "source": [
    "# subset the data and make a copy to avoid errors later on\n",
    "sub = data[[\"country\", \"breastcancerper100th\", \"femaleemployrate\", \"internetuserate\"]]\n",
    "sub_data = sub.copy()\n",
    "\n",
    "print(\"\\ntypes of data:\\n\", sub_data.dtypes, sep=\"\")"
   ]
  },
  {
   "cell_type": "markdown",
   "metadata": {},
   "source": [
    "Now that I have selected the right columns, I have to work on their data types. All values except the country names are numeric, but Python has saved everything as objects. This can easily be changed:"
   ]
  },
  {
   "cell_type": "code",
   "execution_count": 4,
   "metadata": {
    "collapsed": false
   },
   "outputs": [
    {
     "name": "stdout",
     "output_type": "stream",
     "text": [
      "types of data:\n",
      "country                  object\n",
      "breastcancerper100th    float64\n",
      "femaleemployrate        float64\n",
      "internetuserate         float64\n",
      "dtype: object\n",
      "\n",
      "First five rows of my subsetted data:\n"
     ]
    },
    {
     "data": {
      "text/html": [
       "<div>\n",
       "<table border=\"1\" class=\"dataframe\">\n",
       "  <thead>\n",
       "    <tr style=\"text-align: right;\">\n",
       "      <th></th>\n",
       "      <th>country</th>\n",
       "      <th>breastcancerper100th</th>\n",
       "      <th>femaleemployrate</th>\n",
       "      <th>internetuserate</th>\n",
       "    </tr>\n",
       "  </thead>\n",
       "  <tbody>\n",
       "    <tr>\n",
       "      <th>0</th>\n",
       "      <td>Afghanistan</td>\n",
       "      <td>26.8</td>\n",
       "      <td>25.600000</td>\n",
       "      <td>3.654122</td>\n",
       "    </tr>\n",
       "    <tr>\n",
       "      <th>1</th>\n",
       "      <td>Albania</td>\n",
       "      <td>57.4</td>\n",
       "      <td>42.099998</td>\n",
       "      <td>44.989947</td>\n",
       "    </tr>\n",
       "    <tr>\n",
       "      <th>2</th>\n",
       "      <td>Algeria</td>\n",
       "      <td>23.5</td>\n",
       "      <td>31.700001</td>\n",
       "      <td>12.500073</td>\n",
       "    </tr>\n",
       "    <tr>\n",
       "      <th>3</th>\n",
       "      <td>Andorra</td>\n",
       "      <td>NaN</td>\n",
       "      <td>NaN</td>\n",
       "      <td>81.000000</td>\n",
       "    </tr>\n",
       "    <tr>\n",
       "      <th>4</th>\n",
       "      <td>Angola</td>\n",
       "      <td>23.1</td>\n",
       "      <td>69.400002</td>\n",
       "      <td>9.999954</td>\n",
       "    </tr>\n",
       "  </tbody>\n",
       "</table>\n",
       "</div>"
      ],
      "text/plain": [
       "       country  breastcancerper100th  femaleemployrate  internetuserate\n",
       "0  Afghanistan                  26.8         25.600000         3.654122\n",
       "1      Albania                  57.4         42.099998        44.989947\n",
       "2      Algeria                  23.5         31.700001        12.500073\n",
       "3      Andorra                   NaN               NaN        81.000000\n",
       "4       Angola                  23.1         69.400002         9.999954"
      ]
     },
     "execution_count": 4,
     "metadata": {},
     "output_type": "execute_result"
    }
   ],
   "source": [
    "# change data types to numeric\n",
    "sub_data[\"breastcancerper100th\"] = sub_data[\"breastcancerper100th\"].convert_objects(convert_numeric=True)\n",
    "sub_data[\"femaleemployrate\"] = sub_data[\"femaleemployrate\"].convert_objects(convert_numeric=True)\n",
    "sub_data[\"internetuserate\"] = sub_data[\"internetuserate\"].convert_objects(convert_numeric=True)\n",
    "\n",
    "print(\"types of data:\\n\", sub_data.dtypes, sep=\"\")\n",
    "\n",
    "print(\"\\nFirst five rows of my subsetted data:\")\n",
    "sub_data.head(5)"
   ]
  },
  {
   "cell_type": "markdown",
   "metadata": {},
   "source": [
    "Finally, I can have a first look at the numbers using frequency tables (as requested in the course). This doesn't make much sense, since I am working with continuous variables, but it will at least show me if there are missing values (NaN) in my data."
   ]
  },
  {
   "cell_type": "code",
   "execution_count": 5,
   "metadata": {
    "collapsed": false
   },
   "outputs": [
    {
     "name": "stdout",
     "output_type": "stream",
     "text": [
      "first five values for breast cancer cases:\n",
      "        counts  percentages\n",
      "NaN        40     0.187793\n",
      " 91.9       2     0.009390\n",
      " 46.6       1     0.004695\n",
      " 3.9        1     0.004695\n",
      " 30.6       1     0.004695\n",
      "\n",
      "first five values for female employment rate:\n",
      "             counts  percentages\n",
      "NaN             35     0.164319\n",
      " 46.000000       1     0.004695\n",
      " 30.200001       1     0.004695\n",
      " 37.900002       1     0.004695\n",
      " 45.599998       1     0.004695\n",
      "\n",
      "first five values for internet usage:\n",
      "            counts  percentages\n",
      "NaN            21     0.098592\n",
      " 0.720009       1     0.004695\n",
      " 1.400061       1     0.004695\n",
      " 2.100213       1     0.004695\n",
      " 3.654122       1     0.004695\n"
     ]
    }
   ],
   "source": [
    "## calculate frequencies and concatenate the results in dataframes for nicer output\n",
    "# breast cancer rate\n",
    "breast_freq = pandas.concat(dict(counts = sub_data[\"breastcancerper100th\"].value_counts(sort=False, dropna=False),\n",
    "                                 percentages = sub_data[\"breastcancerper100th\"].value_counts(sort=False, dropna=False,\n",
    "                                                                                             normalize=True)),\n",
    "                            axis=1)\n",
    "print(\"first five values for breast cancer cases:\\n\", breast_freq.head(5))\n",
    "\n",
    "# female employment rate\n",
    "employ_freq = pandas.concat(dict(counts = sub_data[\"femaleemployrate\"].value_counts(sort=False, dropna=False),\n",
    "                                 percentages = sub_data[\"femaleemployrate\"].value_counts(sort=False, dropna=False,\n",
    "                                                                                         normalize=True)),\n",
    "                            axis=1)\n",
    "print(\"\\nfirst five values for female employment rate:\\n\", employ_freq.head(5))\n",
    "\n",
    "# internet use rate\n",
    "internet_freq = pandas.concat(dict(counts = sub_data[\"internetuserate\"].value_counts(sort=False, dropna=False),\n",
    "                                   percentages = sub_data[\"internetuserate\"].value_counts(sort=False, dropna=False,\n",
    "                                                                                        normalize=True)),\n",
    "                            axis=1)\n",
    "print(\"\\nfirst five values for internet usage:\\n\", internet_freq.head(5))"
   ]
  },
  {
   "cell_type": "markdown",
   "metadata": {},
   "source": [
    "There are different numbers of missing values in all three of my variables. We have seen above, for example, that breast cancer and female employment rates are not available for Andorra, and now we know that more cases like this are hidden in the data set. We can't guess these values, for Andorra or any other country, so countries with missing values in any of the variables have to be removed."
   ]
  },
  {
   "cell_type": "code",
   "execution_count": 6,
   "metadata": {
    "collapsed": false
   },
   "outputs": [
    {
     "name": "stdout",
     "output_type": "stream",
     "text": [
      "\n",
      "First five rows of my further subsetted data:\n"
     ]
    },
    {
     "data": {
      "text/html": [
       "<div>\n",
       "<table border=\"1\" class=\"dataframe\">\n",
       "  <thead>\n",
       "    <tr style=\"text-align: right;\">\n",
       "      <th></th>\n",
       "      <th>country</th>\n",
       "      <th>breastcancerper100th</th>\n",
       "      <th>femaleemployrate</th>\n",
       "      <th>internetuserate</th>\n",
       "    </tr>\n",
       "  </thead>\n",
       "  <tbody>\n",
       "    <tr>\n",
       "      <th>0</th>\n",
       "      <td>Afghanistan</td>\n",
       "      <td>26.8</td>\n",
       "      <td>25.600000</td>\n",
       "      <td>3.654122</td>\n",
       "    </tr>\n",
       "    <tr>\n",
       "      <th>1</th>\n",
       "      <td>Albania</td>\n",
       "      <td>57.4</td>\n",
       "      <td>42.099998</td>\n",
       "      <td>44.989947</td>\n",
       "    </tr>\n",
       "    <tr>\n",
       "      <th>2</th>\n",
       "      <td>Algeria</td>\n",
       "      <td>23.5</td>\n",
       "      <td>31.700001</td>\n",
       "      <td>12.500073</td>\n",
       "    </tr>\n",
       "    <tr>\n",
       "      <th>4</th>\n",
       "      <td>Angola</td>\n",
       "      <td>23.1</td>\n",
       "      <td>69.400002</td>\n",
       "      <td>9.999954</td>\n",
       "    </tr>\n",
       "    <tr>\n",
       "      <th>6</th>\n",
       "      <td>Argentina</td>\n",
       "      <td>73.9</td>\n",
       "      <td>45.900002</td>\n",
       "      <td>36.000335</td>\n",
       "    </tr>\n",
       "  </tbody>\n",
       "</table>\n",
       "</div>"
      ],
      "text/plain": [
       "       country  breastcancerper100th  femaleemployrate  internetuserate\n",
       "0  Afghanistan                  26.8         25.600000         3.654122\n",
       "1      Albania                  57.4         42.099998        44.989947\n",
       "2      Algeria                  23.5         31.700001        12.500073\n",
       "4       Angola                  23.1         69.400002         9.999954\n",
       "6    Argentina                  73.9         45.900002        36.000335"
      ]
     },
     "execution_count": 6,
     "metadata": {},
     "output_type": "execute_result"
    }
   ],
   "source": [
    "# remove rows with missing values\n",
    "sub_data2 = sub_data.dropna()\n",
    "\n",
    "print(\"\\nFirst five rows of my further subsetted data:\")\n",
    "sub_data2.head(5)"
   ]
  },
  {
   "cell_type": "markdown",
   "metadata": {},
   "source": [
    "The code above seems to have been successful, as Andorra is no longer on the list. We can again calculate frequencies to make sure:"
   ]
  },
  {
   "cell_type": "code",
   "execution_count": 7,
   "metadata": {
    "collapsed": false
   },
   "outputs": [
    {
     "name": "stdout",
     "output_type": "stream",
     "text": [
      "first five values for breast cancer cases:\n",
      "       counts  percentages\n",
      "91.9       2     0.012346\n",
      "46.6       1     0.006173\n",
      "3.9        1     0.006173\n",
      "30.6       1     0.006173\n",
      "6.4        1     0.006173\n",
      "\n",
      "first five values for female employment rate:\n",
      "            counts  percentages\n",
      "46.000000       1     0.006173\n",
      "30.200001       1     0.006173\n",
      "45.599998       1     0.006173\n",
      "60.900002       1     0.006173\n",
      "12.400000       1     0.006173\n",
      "\n",
      "first five values for internet usage:\n",
      "           counts  percentages\n",
      "0.720009       1     0.006173\n",
      "1.400061       1     0.006173\n",
      "2.100213       1     0.006173\n",
      "3.654122       1     0.006173\n",
      "4.999875       1     0.006173\n"
     ]
    }
   ],
   "source": [
    "## calculate frequencies once more\n",
    "# breast cancer rate\n",
    "breast_freq2 = pandas.concat(dict(counts = sub_data2[\"breastcancerper100th\"].value_counts(sort=False, dropna=False),\n",
    "                                  percentages = sub_data2[\"breastcancerper100th\"].value_counts(sort=False, dropna=False,\n",
    "                                                                                             normalize=True)),\n",
    "                            axis=1)\n",
    "print(\"first five values for breast cancer cases:\\n\", breast_freq2.head(5))\n",
    "\n",
    "# female employment rate\n",
    "employ_freq2 = pandas.concat(dict(counts = sub_data2[\"femaleemployrate\"].value_counts(sort=False, dropna=False),\n",
    "                                  percentages = sub_data2[\"femaleemployrate\"].value_counts(sort=False, dropna=False,\n",
    "                                                                                         normalize=True)),\n",
    "                            axis=1)\n",
    "print(\"\\nfirst five values for female employment rate:\\n\", employ_freq2.head(5))\n",
    "\n",
    "# internet use rate\n",
    "internet_freq2 = pandas.concat(dict(counts = sub_data2[\"internetuserate\"].value_counts(sort=False, dropna=False),\n",
    "                                    percentages = sub_data2[\"internetuserate\"].value_counts(sort=False, dropna=False,\n",
    "                                                                                        normalize=True)),\n",
    "                            axis=1)\n",
    "print(\"\\nfirst five values for internet usage:\\n\", internet_freq2.head(5))"
   ]
  },
  {
   "cell_type": "markdown",
   "metadata": {},
   "source": [
    "Perfect! All rows with missing values were removed. Now the data set is ready for the next part of the course, or the next step of the analysis."
   ]
  }
 ],
 "metadata": {
  "kernelspec": {
   "display_name": "Python 3",
   "language": "python",
   "name": "python3"
  },
  "language_info": {
   "codemirror_mode": {
    "name": "ipython",
    "version": 3
   },
   "file_extension": ".py",
   "mimetype": "text/x-python",
   "name": "python",
   "nbconvert_exporter": "python",
   "pygments_lexer": "ipython3",
   "version": "3.4.3"
  }
 },
 "nbformat": 4,
 "nbformat_minor": 0
}
