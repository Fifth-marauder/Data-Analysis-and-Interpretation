{
 "cells": [
  {
   "cell_type": "markdown",
   "metadata": {},
   "source": [
    "In week three of the [Data Management and Visualisation course](https://www.coursera.org/learn/data-management-visualization/home/welcome) we're managing our data ([I'm working with](http://lilithelina.tumblr.com/post/128347327089/choice-of-data) the [Gapminder](http://www.gapminder.org/) data set) - which means making decisions about coding in (or out) missing values, creating new variables, and grouping old ones.  \n",
    "As a reminder, my topic is **\"Breast Cancer Causes Internet Usage!\"**, or BCCIU for short. The hypothesis is that in countries with more breast cancer cases, the internet use rate is also higher. Additionally, I'm looking at an association between breast cancer and female employment rates (are less women working in a country with more breast cancer cases?).  \n",
    "As before, the output will look lots better in the [nbviewer](http://nbviewer.ipython.org/github/LilithElina/Data-Management-and-Visualization/blob/master/Week%20Three.ipynb) than on tumblr, so you might want to read it over there (but you don't have to)."
   ]
  },
  {
   "cell_type": "markdown",
   "metadata": {},
   "source": [
    "First up comes all the code I created in the [data preparation script](http://lilithelina.tumblr.com/post/129435011659/data-preparation-python) minus the output."
   ]
  },
  {
   "cell_type": "code",
   "execution_count": 1,
   "metadata": {
    "collapsed": false
   },
   "outputs": [],
   "source": [
    "# load packages\n",
    "import pandas\n",
    "import numpy\n",
    "\n",
    "# read in data\n",
    "data = pandas.read_csv(\"gapminder.csv\", low_memory=False)\n",
    "\n",
    "# subset the data and make a copy to avoid error messages later on\n",
    "sub = data[[\"country\", \"breastcancerper100th\", \"femaleemployrate\", \"internetuserate\"]]\n",
    "sub_data = sub.copy()\n",
    "\n",
    "# change data types to numeric\n",
    "sub_data[\"breastcancerper100th\"] = sub_data[\"breastcancerper100th\"].convert_objects(convert_numeric=True)\n",
    "sub_data[\"femaleemployrate\"] = sub_data[\"femaleemployrate\"].convert_objects(convert_numeric=True)\n",
    "sub_data[\"internetuserate\"] = sub_data[\"internetuserate\"].convert_objects(convert_numeric=True)\n",
    "\n",
    "# remove rows with missing values\n",
    "sub2 = sub_data.dropna()\n",
    "sub_data2 = sub2.copy()"
   ]
  },
  {
   "cell_type": "markdown",
   "metadata": {
    "collapsed": true
   },
   "source": [
    "In that script, I read in the Gapminder data, reduced it to contain only the variables I wanted to work with, and converted these to numeric. I also removed observations - that is, countries - with missing values in any of the variables from my data subset."
   ]
  },
  {
   "cell_type": "markdown",
   "metadata": {},
   "source": [
    "To get a better overview of the data set I have created now, I'm going to bin my continuous variables into groups to create meaningful frequency tables. In order to decide on the size or number of my bins, I'll have a look at data summaries - just as I did in the [last R script](http://lilithelina.tumblr.com/post/129719413934/data-preparation-r)."
   ]
  },
  {
   "cell_type": "code",
   "execution_count": 2,
   "metadata": {
    "collapsed": false
   },
   "outputs": [
    {
     "name": "stdout",
     "output_type": "stream",
     "text": [
      "       breastcancerper100th  femaleemployrate  internetuserate\n",
      "count            162.000000        162.000000       162.000000\n",
      "mean              37.896914         47.730864        34.081991\n",
      "std               23.142723         14.735980        27.819118\n",
      "min                3.900000         12.400000         0.720009\n",
      "25%               20.725000         38.900000         9.637458\n",
      "50%               30.450000         47.799999        29.439699\n",
      "75%               50.375000         55.875000        52.769074\n",
      "max              101.100000         83.300003        95.638113\n"
     ]
    }
   ],
   "source": [
    "# print data summary (of numeric variables)\n",
    "print(sub_data2.describe())"
   ]
  },
  {
   "cell_type": "markdown",
   "metadata": {},
   "source": [
    "The result is, of course, the same as in R. In 2002, between 3.9 and 101.1 per 100,000 women were diagnosed with breast cancer; in 2007, between 12.4 and 83.3% of the female population aged over 15 had been employed all over the world; and in 2010, between 0.72 and 95.6% of the different country populations had access to the internet."
   ]
  },
  {
   "cell_type": "markdown",
   "metadata": {},
   "source": [
    "The problem is, I still don't know how many groups I would like to create, or where the cuts should be made. This is one of the [problems with binning continuous variables](http://biostat.mc.vanderbilt.edu/wiki/Main/CatContinuous) - and together with all the others, this is why I don't see me using the new groups I'm about to create for the actual analysis. Nevertheless, I'll split the variables into five bins each for this course."
   ]
  },
  {
   "cell_type": "code",
   "execution_count": 3,
   "metadata": {
    "collapsed": false
   },
   "outputs": [],
   "source": [
    "# create five equal-sized groups per variable\n",
    "sub_data2['breastGroup'] = pandas.qcut(sub_data2.breastcancerper100th,\n",
    "                                       5, labels=[\"very low\", \"low\", \"middle\", \"high\", \"very high\"])\n",
    "sub_data2['employGroup'] = pandas.qcut(sub_data2.femaleemployrate,\n",
    "                                       5, labels=[\"very low\", \"low\", \"middle\", \"high\", \"very high\"])\n",
    "sub_data2['internGroup'] = pandas.qcut(sub_data2.internetuserate,\n",
    "                                       5, labels=[\"very low\", \"low\", \"middle\", \"high\", \"very high\"])"
   ]
  },
  {
   "cell_type": "code",
   "execution_count": 4,
   "metadata": {
    "collapsed": false
   },
   "outputs": [
    {
     "name": "stdout",
     "output_type": "stream",
     "text": [
      "first five rows of the data:\n",
      "        country  breastcancerper100th  femaleemployrate  internetuserate  \\\n",
      "0  Afghanistan                  26.8         25.600000         3.654122   \n",
      "1      Albania                  57.4         42.099998        44.989947   \n",
      "2      Algeria                  23.5         31.700001        12.500073   \n",
      "4       Angola                  23.1         69.400002         9.999954   \n",
      "6    Argentina                  73.9         45.900002        36.000335   \n",
      "\n",
      "  breastGroup employGroup internGroup  \n",
      "0      middle    very low    very low  \n",
      "1   very high         low        high  \n",
      "2         low    very low         low  \n",
      "4         low   very high         low  \n",
      "6   very high      middle      middle  \n",
      "\n",
      "frequency of breast cancer groups:\n",
      "            counts  percentages\n",
      "very low       33     0.203704\n",
      "low            32     0.197531\n",
      "middle         32     0.197531\n",
      "high           32     0.197531\n",
      "very high      33     0.203704\n",
      "\n",
      "frequency of female employment groups:\n",
      "            counts  percentages\n",
      "very low       33     0.203704\n",
      "low            32     0.197531\n",
      "middle         32     0.197531\n",
      "high           33     0.203704\n",
      "very high      32     0.197531\n",
      "\n",
      "frequency of internet usage groups:\n",
      "            counts  percentages\n",
      "very low       33     0.203704\n",
      "low            32     0.197531\n",
      "middle         32     0.197531\n",
      "high           32     0.197531\n",
      "very high      33     0.203704\n"
     ]
    }
   ],
   "source": [
    "## print the first five rows of the data\n",
    "print(\"first five rows of the data:\\n\", sub_data2.head())\n",
    "\n",
    "## calculate frequencies in bins\n",
    "# breast cancer rate\n",
    "breastGr_freq = pandas.concat(dict(counts = sub_data2[\"breastGroup\"].value_counts(sort=False, dropna=False),\n",
    "                                   percentages = sub_data2[\"breastGroup\"].value_counts(sort=False, dropna=False,\n",
    "                                                                                       normalize=True)),\n",
    "                            axis=1)\n",
    "print(\"\\nfrequency of breast cancer groups:\\n\", breastGr_freq)\n",
    "\n",
    "# female employment rate\n",
    "employGr_freq = pandas.concat(dict(counts = sub_data2[\"employGroup\"].value_counts(sort=False, dropna=False),\n",
    "                                   percentages = sub_data2[\"employGroup\"].value_counts(sort=False, dropna=False,\n",
    "                                                                                       normalize=True)),\n",
    "                            axis=1)\n",
    "print(\"\\nfrequency of female employment groups:\\n\", employGr_freq)\n",
    "\n",
    "# internet use rate\n",
    "internetGr_freq = pandas.concat(dict(counts = sub_data2[\"internGroup\"].value_counts(sort=False, dropna=False),\n",
    "                                     percentages = sub_data2[\"internGroup\"].value_counts(sort=False, dropna=False,\n",
    "                                                                                         normalize=True)),\n",
    "                            axis=1)\n",
    "print(\"\\nfrequency of internet usage groups:\\n\", internetGr_freq)"
   ]
  },
  {
   "cell_type": "markdown",
   "metadata": {},
   "source": [
    "As we can see above, the values were grouped into five almost same-sized groups for each variable. The first five rows of the data also allow a glimpse at the binning process. For breast cancer, the cut between \"low\" and \"middle\" is above the 25th percentile (20.75), also called the first quartile, but below the median (30.45), while both \"very high\" values are above the 75th percentile (or third quartile) of 50.37. Roughly the same seems to be true for employment rate and internet usage, with the addition that the cut between \"very low\" and \"low\" must lie around the first quartile.  \n",
    "With regards to only the five displayed countries, no interesting relationship between breast cancer and internet usage or female employment rate is visible. Of course, five observations out of 162 are too small a sample to conclude from, so we have to wait for the next - and final - analysis step."
   ]
  }
 ],
 "metadata": {
  "kernelspec": {
   "display_name": "Python 3",
   "language": "python",
   "name": "python3"
  },
  "language_info": {
   "codemirror_mode": {
    "name": "ipython",
    "version": 3
   },
   "file_extension": ".py",
   "mimetype": "text/x-python",
   "name": "python",
   "nbconvert_exporter": "python",
   "pygments_lexer": "ipython3",
   "version": "3.4.3"
  }
 },
 "nbformat": 4,
 "nbformat_minor": 0
}
