{
 "cells": [
  {
   "cell_type": "markdown",
   "metadata": {},
   "source": [
    "I finally made it to week four of [Regression Modelling in Practice](https://www.coursera.org/learn/regression-modeling-practice/home/welcome)! This is the last step in the regression analyses of my **Breast Cancer Causes Internet Usage!** (BCCIU) [project](http://lilithelina.tumblr.com/post/128347327089/choice-of-data), and once more I am forced to bin my quantitative response variable (I'm [again](http://lilithelina.tumblr.com/post/147984528439/multiple-linear-regression-python) only using internet usage) into two categories. This way, I'll be able to test a logistic regression, which works with binary (0/1) response variables. In the assignment, we're also tasked to check for confounding, so I will use logistic multiple regression as well, with the same variables I used for my [multiple linear regression analysis](http://lilithelina.tumblr.com/post/147984528439/multiple-linear-regression-python).\n",
    "\n",
    "The output will look better on [GitHub](https://github.com/LilithElina/Data-Analysis-and-Interpretation/blob/master/RegModPrac/Week%20Four%20-%20Logistic%20Regression.ipynb) than on tumblr."
   ]
  },
  {
   "cell_type": "markdown",
   "metadata": {},
   "source": [
    "First up comes the code to prepare the raw data, filtering for\n",
    "* internet usage (internet users per 100 people in 2010), my response variable, as well as\n",
    "* breast cancer (new breast cancer cases per 100k females in 2002),\n",
    "* income (Gross Domestic Product per capita in 2010), and\n",
    "* urbanisation (urban population as percent of total population in 2008) as explanatory variables."
   ]
  },
  {
   "cell_type": "code",
   "execution_count": 1,
   "metadata": {
    "collapsed": false,
    "scrolled": false
   },
   "outputs": [],
   "source": [
    "# activate inline plotting, should be first statement\n",
    "%matplotlib inline\n",
    "\n",
    "# load packages\n",
    "import warnings                     # ignore warnings (e.g. from future, deprecation, etc.)\n",
    "warnings.filterwarnings('ignore')   # for layout reasons, after I read and acknowledged them all!\n",
    "\n",
    "import pandas\n",
    "import numpy\n",
    "import seaborn\n",
    "import matplotlib.pyplot as plt\n",
    "import statsmodels.api as sm\n",
    "import statsmodels.formula.api as smf\n",
    "\n",
    "# read in data\n",
    "data = pandas.read_csv(\"../gapminder.csv\", low_memory=False)\n",
    "\n",
    "# use country names as row names/indices\n",
    "data.index = data[\"country\"]\n",
    "data.drop(\"country\", axis=1)\n",
    "\n",
    "# subset the data and make a copy to avoid error messages later on\n",
    "sub = data[[\"breastcancerper100th\", \"incomeperperson\", \"internetuserate\", \"urbanrate\"]]\n",
    "sub_data = sub.copy()\n",
    "\n",
    "# change data types to numeric\n",
    "sub_data[\"breastcancerper100th\"] = pandas.to_numeric(sub_data[\"breastcancerper100th\"], errors=\"coerce\")\n",
    "sub_data[\"incomeperperson\"] = pandas.to_numeric(sub_data[\"incomeperperson\"], errors=\"coerce\")\n",
    "sub_data[\"internetuserate\"] = pandas.to_numeric(sub_data[\"internetuserate\"], errors=\"coerce\")\n",
    "sub_data[\"urbanrate\"] = pandas.to_numeric(sub_data[\"urbanrate\"], errors=\"coerce\")\n",
    "\n",
    "# remove rows with missing values (copy again)\n",
    "sub2 = sub_data.dropna()\n",
    "sub_data2 = sub2.copy()"
   ]
  },
  {
   "cell_type": "markdown",
   "metadata": {},
   "source": [
    "As I stated before, my response variable needs to be in a \"presence/absence\" format this time, which will be coded as \"1\" for presence and \"0\" for absence of internet usage. But where should I set the cut-off?"
   ]
  },
  {
   "cell_type": "code",
   "execution_count": 2,
   "metadata": {
    "collapsed": false
   },
   "outputs": [
    {
     "name": "stdout",
     "output_type": "stream",
     "text": [
      "       breastcancerper100th  incomeperperson  internetuserate   urbanrate\n",
      "count            163.000000       163.000000       163.000000  163.000000\n",
      "mean              37.781595      7312.376683        33.747359   56.245767\n",
      "std               23.122332     10467.625388        27.868070   22.943194\n",
      "min                3.900000       103.775857         0.720009   10.400000\n",
      "25%               20.600000       691.093623         9.102256   36.840000\n",
      "50%               30.300000      2425.471293        28.731883   59.460000\n",
      "75%               50.350000      8880.432040        52.513403   73.490000\n",
      "max              101.100000     52301.587179        95.638113  100.000000\n"
     ]
    }
   ],
   "source": [
    "# have a look at the data\n",
    "print(sub_data2.describe())"
   ]
  },
  {
   "cell_type": "markdown",
   "metadata": {},
   "source": [
    "I think I'll use the first quartile this time. That way, in countries with less than 9.1% internet usage, \"internet usage will be absent\"."
   ]
  },
  {
   "cell_type": "code",
   "execution_count": 3,
   "metadata": {
    "collapsed": false
   },
   "outputs": [
    {
     "name": "stdout",
     "output_type": "stream",
     "text": [
      "data with binned response variable\n",
      "       breastcancerper100th  incomeperperson  internetuserate   urbanrate  \\\n",
      "count            163.000000       163.000000       163.000000  163.000000   \n",
      "mean              37.781595      7312.376683        33.747359   56.245767   \n",
      "std               23.122332     10467.625388        27.868070   22.943194   \n",
      "min                3.900000       103.775857         0.720009   10.400000   \n",
      "25%               20.600000       691.093623         9.102256   36.840000   \n",
      "50%               30.300000      2425.471293        28.731883   59.460000   \n",
      "75%               50.350000      8880.432040        52.513403   73.490000   \n",
      "max              101.100000     52301.587179        95.638113  100.000000   \n",
      "\n",
      "       internetBin  \n",
      "count   163.000000  \n",
      "mean      0.748466  \n",
      "std       0.435231  \n",
      "min       0.000000  \n",
      "25%       0.500000  \n",
      "50%       1.000000  \n",
      "75%       1.000000  \n",
      "max       1.000000  \n"
     ]
    }
   ],
   "source": [
    "# bin internet usage\n",
    "sub_data2[\"internetBin\"] = numpy.where(sub_data2[\"internetuserate\"] > 9.1, 1, 0)\n",
    "\n",
    "# examine data summary\n",
    "print(\"data with binned response variable\")\n",
    "print(sub_data2.describe())"
   ]
  },
  {
   "cell_type": "markdown",
   "metadata": {},
   "source": [
    "The `where()` function from `numpy` is really neat here. It returns either one value ($1$, in this case) or the other ($0$), depending on a given condition, which in this case is the test whether or not a value in the internetuserate column is higher or lower than the cut-off I defined. The data summary nicely shows that most of the internet usage values are now coded as $1$. Note that these binary values are nevertheless numeric."
   ]
  },
  {
   "cell_type": "markdown",
   "metadata": {},
   "source": [
    "Now I can run my logistic regression. For this, I need a different function than before, when we used `ols()`. This time, `logit()`, also from the `statsmodels.formula.api` package, will be used."
   ]
  },
  {
   "cell_type": "code",
   "execution_count": 4,
   "metadata": {
    "collapsed": false
   },
   "outputs": [
    {
     "name": "stdout",
     "output_type": "stream",
     "text": [
      "logistic regression model for the association between breast cancer cases and internet use rate\n",
      "Optimization terminated successfully.\n",
      "         Current function value: 0.416506\n",
      "         Iterations 8\n",
      "                           Logit Regression Results                           \n",
      "==============================================================================\n",
      "Dep. Variable:            internetBin   No. Observations:                  163\n",
      "Model:                          Logit   Df Residuals:                      161\n",
      "Method:                           MLE   Df Model:                            1\n",
      "Date:                Thu, 08 Dec 2016   Pseudo R-squ.:                  0.2615\n",
      "Time:                        11:01:34   Log-Likelihood:                -67.890\n",
      "converged:                       True   LL-Null:                       -91.934\n",
      "                                        LLR p-value:                 4.076e-12\n",
      "========================================================================================\n",
      "                           coef    std err          z      P>|z|      [95.0% Conf. Int.]\n",
      "----------------------------------------------------------------------------------------\n",
      "Intercept               -1.8950      0.577     -3.284      0.001        -3.026    -0.764\n",
      "breastcancerper100th     0.1058      0.023      4.629      0.000         0.061     0.151\n",
      "========================================================================================\n"
     ]
    }
   ],
   "source": [
    "# logistic regression model for breast cancer and internet usage\n",
    "print(\"logistic regression model for the association between breast cancer cases and internet use rate\")\n",
    "reg1 = smf.logit(\"internetBin ~ breastcancerper100th\", data=sub_data2).fit()\n",
    "print(reg1.summary())"
   ]
  },
  {
   "cell_type": "markdown",
   "metadata": {},
   "source": [
    "The logistic regression function returns a model not unlike that of a linear regression, including a (significant) *p*-value and a positive coefficient - indicating a positive correlation between internet usage and breast cancer.  \n",
    "Since internet usage only has two outcomes now, though, generating a linear equation wouldn't make sense. Instead, we should look at probabilities, or - better yet - odds ratios (OR). The [advantage of odds ratios over probabilities](http://www.theanalysisfactor.com/why-use-odds-ratios/) here is that an odds ratio is a constant number, while the probability of $y$ being $0$ or $1$ changes with the value of $x$ (which is still a quantitative variable).  \n",
    "The odds ratio can be calculated directly from the coefficient returned by the regression model: it is the natural exponentiation of that coefficient (or parameter estimate). This can be easily calculated with `numpy`'s `exp()` function:"
   ]
  },
  {
   "cell_type": "code",
   "execution_count": 5,
   "metadata": {
    "collapsed": false
   },
   "outputs": [
    {
     "name": "stdout",
     "output_type": "stream",
     "text": [
      "odds ratio\n",
      "Intercept               0.150325\n",
      "breastcancerper100th    1.111579\n",
      "dtype: float64\n"
     ]
    }
   ],
   "source": [
    "print(\"odds ratio\")\n",
    "print(numpy.exp(reg1.params))"
   ]
  },
  {
   "cell_type": "markdown",
   "metadata": {},
   "source": [
    "The same function can also be used to include the confidence intervals returned by the model:"
   ]
  },
  {
   "cell_type": "code",
   "execution_count": 6,
   "metadata": {
    "collapsed": false
   },
   "outputs": [
    {
     "name": "stdout",
     "output_type": "stream",
     "text": [
      "odds ratio with confidence intervals\n",
      "                      Lower CI  Upper CI        OR\n",
      "Intercept             0.048522  0.465722  0.150325\n",
      "breastcancerper100th  1.062896  1.162493  1.111579\n"
     ]
    }
   ],
   "source": [
    "params = reg1.params\n",
    "conf = reg1.conf_int()\n",
    "conf[\"OR\"] = params\n",
    "conf.columns = [\"Lower CI\", \"Upper CI\", \"OR\"]\n",
    "\n",
    "print(\"odds ratio with confidence intervals\")\n",
    "print(numpy.exp(conf))"
   ]
  },
  {
   "cell_type": "markdown",
   "metadata": {},
   "source": [
    "The odds ratio of $OR > 1$ indicates that an increase in breast cancer prevalence leads to a \"presence\" of internet usage - something which I already described much better with [linear regression](http://lilithelina.tumblr.com/post/147441369709/basic-linear-regression-python). Since an odds ratio can take any value from zero to (positive) infinity, and a value of $1$ means that there is an equal probability for either outcome, my $OR = 1.1$ is not even very impressive. How will the addition of other explanatory variables change that?"
   ]
  },
  {
   "cell_type": "code",
   "execution_count": 7,
   "metadata": {
    "collapsed": false
   },
   "outputs": [
    {
     "name": "stdout",
     "output_type": "stream",
     "text": [
      "logistic regression model for the association between breast cancer cases and income with internet use rate\n",
      "Optimization terminated successfully.\n",
      "         Current function value: 0.368648\n",
      "         Iterations 10\n",
      "                           Logit Regression Results                           \n",
      "==============================================================================\n",
      "Dep. Variable:            internetBin   No. Observations:                  163\n",
      "Model:                          Logit   Df Residuals:                      160\n",
      "Method:                           MLE   Df Model:                            2\n",
      "Date:                Thu, 08 Dec 2016   Pseudo R-squ.:                  0.3464\n",
      "Time:                        11:15:20   Log-Likelihood:                -60.090\n",
      "converged:                       True   LL-Null:                       -91.934\n",
      "                                        LLR p-value:                 1.479e-14\n",
      "========================================================================================\n",
      "                           coef    std err          z      P>|z|      [95.0% Conf. Int.]\n",
      "----------------------------------------------------------------------------------------\n",
      "Intercept               -2.0101      0.622     -3.232      0.001        -3.229    -0.791\n",
      "breastcancerper100th     0.0762      0.026      2.974      0.003         0.026     0.126\n",
      "incomeperperson          0.0004      0.000      2.602      0.009         0.000     0.001\n",
      "========================================================================================\n",
      "\n",
      "Possibly complete quasi-separation: A fraction 0.15 of observations can be\n",
      "perfectly predicted. This might indicate that there is complete\n",
      "quasi-separation. In this case some parameters will not be identified.\n"
     ]
    }
   ],
   "source": [
    "# logistic regression model for breast cancer and income with internet usage\n",
    "print(\"logistic regression model for the association between breast cancer cases and income with internet use rate\")\n",
    "reg2 = smf.logit(\"internetBin ~ breastcancerper100th + incomeperperson\", data=sub_data2).fit()\n",
    "print(reg2.summary())"
   ]
  },
  {
   "cell_type": "code",
   "execution_count": 8,
   "metadata": {
    "collapsed": false
   },
   "outputs": [
    {
     "name": "stdout",
     "output_type": "stream",
     "text": [
      "odds ratio with confidence intervals\n",
      "                      Lower CI  Upper CI        OR\n",
      "Intercept             0.039603  0.453280  0.133982\n",
      "breastcancerper100th  1.026306  1.134709  1.079147\n",
      "incomeperperson       1.000109  1.000777  1.000443\n"
     ]
    }
   ],
   "source": [
    "params2 = reg2.params\n",
    "conf2 = reg2.conf_int()\n",
    "conf2[\"OR\"] = params2\n",
    "conf2.columns = [\"Lower CI\", \"Upper CI\", \"OR\"]\n",
    "\n",
    "print(\"odds ratio with confidence intervals\")\n",
    "print(numpy.exp(conf2))"
   ]
  },
  {
   "cell_type": "markdown",
   "metadata": {},
   "source": [
    "The addition of income per person to the model had two consequences: first, the odds ratio for the association between breast cancer and internet usage is a little bit lower now, and second, a warning message is included in the model results. It warns about complete quasi-separation, or quasi-complete separation. This means that one of the predictors (which would have to be income, since the warning didn't occur before) almost completely separated the two internet usage categories. Apparently, there is a threshold in income per person below which almost all internet usage values are either $0$ or $1$, while almost all values above that threshold are the opposite. The problem with this is that the maximum likelihood estimates, which are used in logistic regression, cannot work with data in which the two distributions to compare don't - or barely - overlap, resulting in unreliable parameter estimates.  \n",
    "*In short*: I shouldn't use income per person as explanatory variable here."
   ]
  },
  {
   "cell_type": "markdown",
   "metadata": {},
   "source": [
    "I'll test if the urbanisation rate is confounding the relationship between internet usage and breast cancer, then. Internet usage could easily be associated with urbanisation, but probably won't be separated as well by it."
   ]
  },
  {
   "cell_type": "code",
   "execution_count": 9,
   "metadata": {
    "collapsed": false
   },
   "outputs": [
    {
     "name": "stdout",
     "output_type": "stream",
     "text": [
      "logistic regression model for the association between breast cancer cases and urbanisation with internet use rate\n",
      "Optimization terminated successfully.\n",
      "         Current function value: 0.363538\n",
      "         Iterations 8\n",
      "                           Logit Regression Results                           \n",
      "==============================================================================\n",
      "Dep. Variable:            internetBin   No. Observations:                  163\n",
      "Model:                          Logit   Df Residuals:                      160\n",
      "Method:                           MLE   Df Model:                            2\n",
      "Date:                Thu, 08 Dec 2016   Pseudo R-squ.:                  0.3554\n",
      "Time:                        11:31:15   Log-Likelihood:                -59.257\n",
      "converged:                       True   LL-Null:                       -91.934\n",
      "                                        LLR p-value:                 6.432e-15\n",
      "========================================================================================\n",
      "                           coef    std err          z      P>|z|      [95.0% Conf. Int.]\n",
      "----------------------------------------------------------------------------------------\n",
      "Intercept               -3.3883      0.727     -4.662      0.000        -4.813    -1.964\n",
      "breastcancerper100th     0.0781      0.023      3.370      0.001         0.033     0.124\n",
      "urbanrate                0.0476      0.012      3.808      0.000         0.023     0.072\n",
      "========================================================================================\n"
     ]
    }
   ],
   "source": [
    "# logistic regression model for breast cancer, income and urbanisation with internet usage\n",
    "print(\"logistic regression model for the association between breast cancer cases and urbanisation with internet use rate\")\n",
    "reg3 = smf.logit(\"internetBin ~ breastcancerper100th + urbanrate\", data=sub_data2).fit()\n",
    "print(reg3.summary())"
   ]
  },
  {
   "cell_type": "code",
   "execution_count": 10,
   "metadata": {
    "collapsed": false
   },
   "outputs": [
    {
     "name": "stdout",
     "output_type": "stream",
     "text": [
      "odds ratio with confidence intervals\n",
      "                      Lower CI  Upper CI        OR\n",
      "Intercept             0.008125  0.140320  0.033766\n",
      "breastcancerper100th  1.033227  1.131535  1.081264\n",
      "urbanrate             1.023359  1.074744  1.048737\n"
     ]
    }
   ],
   "source": [
    "params3 = reg3.params\n",
    "conf3 = reg3.conf_int()\n",
    "conf3['OR'] = params3\n",
    "conf3.columns = ['Lower CI', 'Upper CI', 'OR']\n",
    "\n",
    "print(\"odds ratio with confidence intervals\")\n",
    "print(numpy.exp(conf3))"
   ]
  },
  {
   "cell_type": "markdown",
   "metadata": {},
   "source": [
    "Similar to what I've seen in the [multiple linear regression](http://lilithelina.tumblr.com/post/147984528439/multiple-linear-regression-python), the urbanisation rate is not truly confounding the association between internet usage and breast cancer. The *p*-values for both explanatory variables are still very low, and the odds ratios fall into very small confidence intervals. Nevertheless, the odds ratio for breast cancer is even lower than before - closer to $1$ and an equal probability for \"presence\" or \"absence\" of internet usage.\n",
    "\n",
    "While logistic regression is an important and valuable tool to analyse categorical data, forcing my data into the right format for analysis did - not surprisingly - not lead to very convincing results."
   ]
  }
 ],
 "metadata": {
  "anaconda-cloud": {},
  "kernelspec": {
   "display_name": "Python [default]",
   "language": "python",
   "name": "python3"
  },
  "language_info": {
   "codemirror_mode": {
    "name": "ipython",
    "version": 3
   },
   "file_extension": ".py",
   "mimetype": "text/x-python",
   "name": "python",
   "nbconvert_exporter": "python",
   "pygments_lexer": "ipython3",
   "version": "3.5.2"
  }
 },
 "nbformat": 4,
 "nbformat_minor": 0
}
