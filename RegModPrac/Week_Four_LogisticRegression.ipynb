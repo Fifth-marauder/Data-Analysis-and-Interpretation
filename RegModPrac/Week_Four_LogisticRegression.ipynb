{
 "cells": [
  {
   "cell_type": "markdown",
   "metadata": {},
   "source": [
    "As mostly [mentioned first](http://lilithelina.tumblr.com/post/128638794919/choice-of-language), I want to compare `Python` and `R` analysis steps in the [DataManViz](http://lilithelina.tumblr.com/tagged/DataManViz), [DataAnaT](http://lilithelina.tumblr.com/tagged/DataAnaT), and [RegModPrac](http://lilithelina.tumblr.com/RegModPrac) projects.\n",
    "Therefore, this is the `R` version of the [Logistic Regression](http://lilithelina.tumblr.com/post/154204468274/logistic-regression-python) `Python` script I posted before. Here, I'll use logistic regression to test the association between internet use rate (my response variable, this time binned into two categories) and multiple explanatory variables - but first and foremost new breast cancer cases.\n",
    "\n",
    "Again, the whole thing will look better over [here](http://htmlpreview.github.io/?https://github.com/LilithElina/Data-Analysis-and-Interpretation/blob/master/RegModPrac/Week_Four_LogsiticRegression.html)."
   ]
  },
  {
   "cell_type": "markdown",
   "metadata": {},
   "source": [
    "I will first run some of my previous code to prepare R, and remove variables I don't need and observations for which important data is missing."
   ]
  },
  {
   "cell_type": "code",
   "execution_count": 1,
   "metadata": {
    "collapsed": false
   },
   "outputs": [],
   "source": [
    "#setwd(\"C:/Users/Sarah/Dropbox/coursera/Data Analysis and Interpretation/RegModPrac\")\n",
    "setwd(\"C:/Users/spo12/Dropbox/coursera/Data Analysis and Interpretation/RegModPrac\")\n",
    "options(stringsAsFactors=FALSE)\n",
    "\n",
    "# load libraries\n",
    "\n",
    "\n",
    "# load data\n",
    "gapminder <- read.table(\"../gapminder.csv\", sep=\",\", header=TRUE, quote=\"\\\"\")\n",
    "# set row names\n",
    "rownames(gapminder) <- gapminder$country\n",
    "\n",
    "# subset data\n",
    "sub_data <- subset(gapminder, select=c(\"breastcancerper100th\", \"urbanrate\", \"internetuserate\", \"incomeperperson\"))\n",
    "\n",
    "# remove rows with NAs\n",
    "sub_data2 <- na.omit(sub_data)"
   ]
  },
  {
   "cell_type": "markdown",
   "metadata": {},
   "source": [
    "Internet usage, my response variable, has to be in a binary format for logistic regression to work. In my `Python` script, I decided to use the 25% quartile as cut-off, so I'll do the same here."
   ]
  },
  {
   "cell_type": "code",
   "execution_count": 2,
   "metadata": {
    "collapsed": false
   },
   "outputs": [
    {
     "data": {
      "text/plain": [
       " breastcancerper100th   urbanrate      internetuserate  incomeperperson  \n",
       " Min.   :  3.90       Min.   : 10.40   Min.   : 0.720   Min.   :  103.8  \n",
       " 1st Qu.: 20.60       1st Qu.: 36.84   1st Qu.: 9.102   1st Qu.:  691.1  \n",
       " Median : 30.30       Median : 59.46   Median :28.732   Median : 2425.5  \n",
       " Mean   : 37.78       Mean   : 56.25   Mean   :33.747   Mean   : 7312.4  \n",
       " 3rd Qu.: 50.35       3rd Qu.: 73.49   3rd Qu.:52.513   3rd Qu.: 8880.4  \n",
       " Max.   :101.10       Max.   :100.00   Max.   :95.638   Max.   :52301.6  \n",
       "  internetBin    \n",
       " Min.   :0.0000  \n",
       " 1st Qu.:0.5000  \n",
       " Median :1.0000  \n",
       " Mean   :0.7485  \n",
       " 3rd Qu.:1.0000  \n",
       " Max.   :1.0000  "
      ]
     },
     "metadata": {},
     "output_type": "display_data"
    }
   ],
   "source": [
    "# bin response variable\n",
    "sub_data2$internetBin <- as.numeric(sub_data2$internetuserate > 9.1)\n",
    "summary(sub_data2)"
   ]
  },
  {
   "cell_type": "markdown",
   "metadata": {},
   "source": [
    "For the binning, I'm using a simple test whether the internet usage in a country is above my threshold or not. The `as.numeric()` will automatically convert every returned `TRUE` to a `1`, and every `FALSE` to a `0` -- and done is my conversion.\n",
    "\n",
    "Let's go ahead with the logistic regression!"
   ]
  },
  {
   "cell_type": "code",
   "execution_count": 4,
   "metadata": {
    "collapsed": false
   },
   "outputs": [
    {
     "data": {
      "text/plain": [
       "\n",
       "Call:\n",
       "glm(formula = internetBin ~ breastcancerper100th, family = \"binomial\", \n",
       "    data = sub_data2)\n",
       "\n",
       "Deviance Residuals: \n",
       "    Min       1Q   Median       3Q      Max  \n",
       "-1.9427  -0.3112   0.2517   0.7259   1.7188  \n",
       "\n",
       "Coefficients:\n",
       "                     Estimate Std. Error z value Pr(>|z|)    \n",
       "(Intercept)          -1.89496    0.57693  -3.285  0.00102 ** \n",
       "breastcancerper100th  0.10578    0.02285   4.630 3.66e-06 ***\n",
       "---\n",
       "Signif. codes:  0 '***' 0.001 '**' 0.01 '*' 0.05 '.' 0.1 ' ' 1\n",
       "\n",
       "(Dispersion parameter for binomial family taken to be 1)\n",
       "\n",
       "    Null deviance: 183.87  on 162  degrees of freedom\n",
       "Residual deviance: 135.78  on 161  degrees of freedom\n",
       "AIC: 139.78\n",
       "\n",
       "Number of Fisher Scoring iterations: 6\n"
      ]
     },
     "metadata": {},
     "output_type": "display_data"
    }
   ],
   "source": [
    "fit1 <- glm(internetBin ~ breastcancerper100th, data=sub_data2, family=\"binomial\")\n",
    "summary(fit1)"
   ]
  },
  {
   "cell_type": "markdown",
   "metadata": {},
   "source": [
    "The model results look quite different from those returned by `Python`. Already familiar are the coefficients shown in the middle of the results, which say that there is a significant, positive association between internet usage and breast cancer. From the parameter estimate, the [odds ration](http://www.theanalysisfactor.com/why-use-odds-ratios/) can again be calculated, but before it might be nice to have the confidence intervals for the parameter estimate as well. Luckily, these are relatively easy to obtain:"
   ]
  },
  {
   "cell_type": "code",
   "execution_count": 5,
   "metadata": {
    "collapsed": false
   },
   "outputs": [
    {
     "name": "stderr",
     "output_type": "stream",
     "text": [
      "Waiting for profiling to be done...\n"
     ]
    },
    {
     "name": "stdout",
     "output_type": "stream",
     "text": [
      "[1] \"odds ratio with confidence intervals\"\n"
     ]
    },
    {
     "data": {
      "text/html": [
       "<table>\n",
       "<thead><tr><th></th><th scope=col>2.5 %</th><th scope=col>97.5 %</th><th scope=col>OR</th></tr></thead>\n",
       "<tbody>\n",
       "\t<tr><th scope=row>(Intercept)</th><td>0.04444601</td><td>0.432423  </td><td>0.1503249 </td></tr>\n",
       "\t<tr><th scope=row>breastcancerper100th</th><td>1.06804211</td><td>1.168457  </td><td>1.1115793 </td></tr>\n",
       "</tbody>\n",
       "</table>\n"
      ],
      "text/latex": [
       "\\begin{tabular}{r|lll}\n",
       "  & 2.5 \\% & 97.5 \\% & OR\\\\\n",
       "\\hline\n",
       "\t(Intercept) & 0.04444601 & 0.432423   & 0.1503249 \\\\\n",
       "\tbreastcancerper100th & 1.06804211 & 1.168457   & 1.1115793 \\\\\n",
       "\\end{tabular}\n"
      ],
      "text/markdown": [
       "\n",
       "| <!--/--> | 2.5 % | 97.5 % | OR | \n",
       "|---|---|\n",
       "| (Intercept) | 0.04444601 | 0.432423   | 0.1503249  | \n",
       "| breastcancerper100th | 1.06804211 | 1.168457   | 1.1115793  | \n",
       "\n",
       "\n"
      ],
      "text/plain": [
       "                     2.5 %      97.5 %   OR       \n",
       "(Intercept)          0.04444601 0.432423 0.1503249\n",
       "breastcancerper100th 1.06804211 1.168457 1.1115793"
      ]
     },
     "metadata": {},
     "output_type": "display_data"
    }
   ],
   "source": [
    "conf1 <- confint(fit1)\n",
    "conf1 <- cbind(conf1, \"OR\"=coef(fit1))\n",
    "\n",
    "print(\"odds ratio with confidence intervals\")\n",
    "exp(conf1)"
   ]
  },
  {
   "cell_type": "markdown",
   "metadata": {},
   "source": [
    "The values are the same as in `Python`, so again the `OR > 1` again signifies that internet usage will be higher in countries with higher breast cancer prevalence."
   ]
  },
  {
   "cell_type": "markdown",
   "metadata": {},
   "source": [
    "Above the coefficients, the `R` function lists deviance residuals. I am not really sure what they signify in the context of logistic regression, but apparently the goal of the model is to reduce them as much as possible. How successful the model is at that task can be analysed with an a deviance table using the [Chi square](http://lilithelina.tumblr.com/post/134387869079/data-analysis-chi-square-r) test to calculate test statistics:"
   ]
  },
  {
   "cell_type": "code",
   "execution_count": 6,
   "metadata": {
    "collapsed": false
   },
   "outputs": [
    {
     "data": {
      "text/html": [
       "<table>\n",
       "<thead><tr><th></th><th scope=col>Df</th><th scope=col>Deviance</th><th scope=col>Resid. Df</th><th scope=col>Resid. Dev</th><th scope=col>Pr(&gt;Chi)</th></tr></thead>\n",
       "<tbody>\n",
       "\t<tr><th scope=row>NULL</th><td>NA          </td><td>      NA    </td><td>162         </td><td>183.8685    </td><td>          NA</td></tr>\n",
       "\t<tr><th scope=row>breastcancerper100th</th><td> 1          </td><td>48.08763    </td><td>161         </td><td>135.7809    </td><td>4.075893e-12</td></tr>\n",
       "</tbody>\n",
       "</table>\n"
      ],
      "text/latex": [
       "\\begin{tabular}{r|lllll}\n",
       "  & Df & Deviance & Resid. Df & Resid. Dev & Pr(>Chi)\\\\\n",
       "\\hline\n",
       "\tNULL & NA           &       NA     & 162          & 183.8685     &           NA\\\\\n",
       "\tbreastcancerper100th &  1           & 48.08763     & 161          & 135.7809     & 4.075893e-12\\\\\n",
       "\\end{tabular}\n"
      ],
      "text/markdown": [
       "\n",
       "| <!--/--> | Df | Deviance | Resid. Df | Resid. Dev | Pr(>Chi) | \n",
       "|---|---|\n",
       "| NULL | NA           |       NA     | 162          | 183.8685     |           NA | \n",
       "| breastcancerper100th |  1           | 48.08763     | 161          | 135.7809     | 4.075893e-12 | \n",
       "\n",
       "\n"
      ],
      "text/plain": [
       "                     Df Deviance Resid. Df Resid. Dev Pr(>Chi)    \n",
       "NULL                 NA       NA 162       183.8685             NA\n",
       "breastcancerper100th  1 48.08763 161       135.7809   4.075893e-12"
      ]
     },
     "metadata": {},
     "output_type": "display_data"
    }
   ],
   "source": [
    "anova(fit1, test=\"Chisq\")"
   ]
  },
  {
   "cell_type": "markdown",
   "metadata": {},
   "source": [
    "The null model uses only the intercept and no explanatory variable, resulting in a high deviance. With breast cancer as explanatory variable, a significant reduction of deviance takes place. If the model would contain more explanatory variables, the test would add them one at a time and determine their effect on the deviance.  \n",
    "Time to add another explanatory variable!"
   ]
  },
  {
   "cell_type": "code",
   "execution_count": 7,
   "metadata": {
    "collapsed": false
   },
   "outputs": [
    {
     "data": {
      "text/plain": [
       "\n",
       "Call:\n",
       "glm(formula = internetBin ~ breastcancerper100th + incomeperperson, \n",
       "    family = \"binomial\", data = sub_data2)\n",
       "\n",
       "Deviance Residuals: \n",
       "     Min        1Q    Median        3Q       Max  \n",
       "-2.50062  -0.31160   0.08903   0.58516   1.78481  \n",
       "\n",
       "Coefficients:\n",
       "                       Estimate Std. Error z value Pr(>|z|)   \n",
       "(Intercept)          -2.0100509  0.6218483  -3.232  0.00123 **\n",
       "breastcancerper100th  0.0761711  0.0256152   2.974  0.00294 **\n",
       "incomeperperson       0.0004431  0.0001703   2.602  0.00927 **\n",
       "---\n",
       "Signif. codes:  0 '***' 0.001 '**' 0.01 '*' 0.05 '.' 0.1 ' ' 1\n",
       "\n",
       "(Dispersion parameter for binomial family taken to be 1)\n",
       "\n",
       "    Null deviance: 183.87  on 162  degrees of freedom\n",
       "Residual deviance: 120.18  on 160  degrees of freedom\n",
       "AIC: 126.18\n",
       "\n",
       "Number of Fisher Scoring iterations: 8\n"
      ]
     },
     "metadata": {},
     "output_type": "display_data"
    }
   ],
   "source": [
    "fit2 <- glm(internetBin ~ breastcancerper100th + incomeperperson, data=sub_data2, family=\"binomial\")\n",
    "summary(fit2)"
   ]
  },
  {
   "cell_type": "markdown",
   "metadata": {},
   "source": [
    "In `Python`, using both breast cancer and income as explanatory variables resulted in a warning about quasi complete separation of the two internet usage groups. This is not the case here, I wonder why...\n",
    "\n",
    "Let's have a look at the odds ratios and deviance again..."
   ]
  },
  {
   "cell_type": "code",
   "execution_count": 8,
   "metadata": {
    "collapsed": false
   },
   "outputs": [],
   "source": [
    "#conf2 <- confint(fit2)\n",
    "#conf2 <- cbind(conf2, \"OR\"=coef(fit2))\n",
    "\n",
    "#print(\"odds ratio with confidence intervals\")\n",
    "#exp(conf2)"
   ]
  },
  {
   "cell_type": "markdown",
   "metadata": {},
   "source": [
    "Ah, here we go! This warning indicates that there is (quasi) complete separation happening, so I'll just move on to my third model, using breast cancer and urbanisation as explanatory variables."
   ]
  },
  {
   "cell_type": "raw",
   "metadata": {
    "collapsed": false
   },
   "source": [
    "fit3 <- glm(internetBin ~ breastcancerper100th + urbanrate, data=sub_data2, family=\"binomial\")\n",
    "summary(fit3)"
   ]
  },
  {
   "cell_type": "markdown",
   "metadata": {},
   "source": [
    "All right, what do the additional tests say this time?"
   ]
  },
  {
   "cell_type": "code",
   "execution_count": 9,
   "metadata": {
    "collapsed": false,
    "scrolled": true
   },
   "outputs": [
    {
     "ename": "ERROR",
     "evalue": "Error in confint(fit3): Objekt 'fit3' nicht gefunden\n",
     "output_type": "error",
     "traceback": [
      "Error in confint(fit3): Objekt 'fit3' nicht gefunden\nTraceback:\n",
      "1. confint(fit3)"
     ]
    }
   ],
   "source": [
    "conf3 <- confint(fit3)\n",
    "conf3 <- cbind(conf3, \"OR\"=coef(fit3))\n",
    "\n",
    "print(\"odds ratio with confidence intervals\")\n",
    "exp(conf3)"
   ]
  },
  {
   "cell_type": "code",
   "execution_count": null,
   "metadata": {
    "collapsed": false
   },
   "outputs": [],
   "source": [
    "anova(fit3, test=\"Chisq\")"
   ]
  },
  {
   "cell_type": "markdown",
   "metadata": {},
   "source": [
    "The odds ratio for an association between breast cancer and internet usage decreased a bit when urbanisation was added to the model -- as before. On the other hand, the residual deviance also decreases significantly upon addition of that second explanatory variable, so it definitely improves the model, while not being a confounder (since breast cancer is still significantly associated with internet usage)."
   ]
  },
  {
   "cell_type": "code",
   "execution_count": null,
   "metadata": {
    "collapsed": false
   },
   "outputs": [],
   "source": [
    "print(\"difference between residual deviance using only breast cancer\")\n",
    "with(fit1, null.deviance - deviance)\n",
    "\n",
    "print(\"difference between residual deviance using breast cancer and internet usage\")\n",
    "with(fit2, null.deviance - deviance)\n",
    "\n",
    "print(\"difference between residual deviance using breast cancer and urbanisation\")\n",
    "with(fit3, null.deviance - deviance)"
   ]
  },
  {
   "cell_type": "markdown",
   "metadata": {},
   "source": [
    "The addition of other explanatory variables definitely improved my logistic model, but overall I think it's nowhere near the multiple linear regression which can directly work with my continuous data."
   ]
  }
 ],
 "metadata": {
  "anaconda-cloud": {},
  "kernelspec": {
   "display_name": "R",
   "language": "R",
   "name": "ir"
  },
  "language_info": {
   "codemirror_mode": "r",
   "file_extension": ".r",
   "mimetype": "text/x-r-source",
   "name": "R",
   "pygments_lexer": "r",
   "version": "3.3.2"
  }
 },
 "nbformat": 4,
 "nbformat_minor": 0
}
